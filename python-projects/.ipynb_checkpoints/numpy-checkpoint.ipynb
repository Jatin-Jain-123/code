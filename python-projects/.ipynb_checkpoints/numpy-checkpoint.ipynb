{
 "cells": [
  {
   "cell_type": "code",
   "execution_count": 2,
   "id": "a301384c-7bec-4534-a502-90e6d75f19ad",
   "metadata": {},
   "outputs": [],
   "source": [
    "import numpy as np"
   ]
  },
  {
   "cell_type": "code",
   "execution_count": 3,
   "id": "853b504a-3cf4-42db-b005-ec3288a7016c",
   "metadata": {},
   "outputs": [
    {
     "name": "stdout",
     "output_type": "stream",
     "text": [
      "0.3745401188473625\n",
      "[0.95071431 0.73199394 0.59865848 0.15601864 0.15599452]\n",
      "[[0.05808361 0.86617615 0.60111501]\n",
      " [0.70807258 0.02058449 0.96990985]]\n",
      "[[0.83244264 0.21233911 0.18182497]\n",
      " [0.18340451 0.30424224 0.52475643]]\n"
     ]
    }
   ],
   "source": [
    "# np.random.seed() to ensure reproducibility\n",
    "np.random.seed(42)\n",
    "# random.rand generates a random float between 0 and 1 [0 is incl, 1 is excl] ie: uniform distribution\n",
    "x=np.random.rand()\n",
    "print(x)\n",
    "x=np.random.rand(5)\n",
    "print(x)\n",
    "x=np.random.rand(2,3)\n",
    "print(x)\n",
    "# random.random is same but takes a shape tuple as input\n",
    "x=np.random.random((2,3))\n",
    "print(x)\n",
    "# random.randn generates a random float from the standard normal distribution"
   ]
  },
  {
   "cell_type": "code",
   "execution_count": null,
   "id": "5063e004-0bb9-4ff2-9991-0f5293ab4d31",
   "metadata": {},
   "outputs": [],
   "source": []
  },
  {
   "cell_type": "code",
   "execution_count": null,
   "id": "38044a19-6b4a-4987-a211-9f0808dbaff9",
   "metadata": {},
   "outputs": [],
   "source": []
  }
 ],
 "metadata": {
  "kernelspec": {
   "display_name": "python-env",
   "language": "python",
   "name": "python-env"
  },
  "language_info": {
   "codemirror_mode": {
    "name": "ipython",
    "version": 3
   },
   "file_extension": ".py",
   "mimetype": "text/x-python",
   "name": "python",
   "nbconvert_exporter": "python",
   "pygments_lexer": "ipython3",
   "version": "3.13.2"
  }
 },
 "nbformat": 4,
 "nbformat_minor": 5
}
